{
 "cells": [
  {
   "cell_type": "markdown",
   "metadata": {},
   "source": [
    "# Scikit-multiflow"
   ]
  },
  {
   "cell_type": "markdown",
   "metadata": {},
   "source": [
    "`scikit-multiflow` is an open source framework for multi-output/multi-label and stream data mining. It is being developed by  **Télécom ParisTech** and  **École Polytechique**. \n",
    "For this lab we will be using `scikit-multiflow`. Visit the page of the [framework](https://scikit-multiflow.github.io/) and follow the [installation guidelines](https://scikit-multiflow.github.io/scikit-multiflow/installation.html).\n",
    "**Notice:** `scikit-multiflow` requires `NumPy`\n",
    "Also, for this lab you will need: `pandas` and `matplotlib`."
   ]
  },
  {
   "cell_type": "markdown",
   "metadata": {},
   "source": [
    "# Classification in Data Streams"
   ]
  },
  {
   "cell_type": "markdown",
   "metadata": {},
   "source": [
    "The goal of this lab is to build a classifier capable of learning and making predictions in a datastream using the `scikit-multiflow` framework. In this lab we are comparing three datastream classifiers on Electricity dataset:\n",
    "- kNN\n",
    "- Hoeffding Tree\n",
    "- Batch-Incremental Ensemble Classifier (BIE)"
   ]
  },
  {
   "cell_type": "markdown",
   "metadata": {},
   "source": [
    "The last of the three classifiers is not implemented yet. This is the task of this lab. You should implement the `predict` and `partial_fit` functions in the `BatchClassifier` class. Implement a tumbling window of size 100, creating and maintaining up to a maximum of 100 models. Build a `DecisionTreeClassifier` on each of the batches/windows."
   ]
  },
  {
   "cell_type": "code",
   "execution_count": 1,
   "metadata": {},
   "outputs": [],
   "source": [
    "from numpy import *\n",
    "import numpy as np\n",
    "\n",
    "from sklearn.tree import DecisionTreeClassifier\n",
    "\n",
    "class BatchClassifier:\n",
    "\n",
    "    def __init__(self, window_size=100, max_models=100):\n",
    "        self.H = []\n",
    "        self.h = None\n",
    "        # TODO\n",
    "        self.window_size=window_size\n",
    "        self.max_models=max_models\n",
    "        self.X_batch=None\n",
    "        self.y_batch=None\n",
    "\n",
    "    def partial_fit(self, X, y=None, classes=None):\n",
    "        # TODO \n",
    "        # if not initialized ...\n",
    "            # Setup \n",
    "        N,D = X.shape\n",
    "        \n",
    "        if not self.h:\n",
    "            self.X_batch = zeros((self.window_size,D))\n",
    "            self.y_batch = zeros(self.window_size)\n",
    "            self.h=0\n",
    "        # N.B.: The 'classes' option is not important for this classifier\n",
    "        \n",
    "        for i in range(N):\n",
    "            self.X_batch[self.h] = X[i]\n",
    "            self.y_batch[self.h] = y[i]\n",
    "            self.h+=1\n",
    "            if self.h==self.window_size:    \n",
    "                h = DecisionTreeClassifier()\n",
    "                h.fit(self.X_batch,self.y_batch)\n",
    "                self.H.append(h)# <-- and append it to the ensemble\n",
    "                if len(self.H)==self.max_models:\n",
    "                    self.H=self.H[1:]\n",
    "                self.h=0\n",
    "        return self\n",
    "\n",
    "    def predict(self, X):\n",
    "        # TODO \n",
    "        N, D = X.shape\n",
    "        a = np.zeros(shape=(N,len(self.H)))\n",
    "        b = np.zeros(shape=(N,1))\n",
    "        for i in range(len(self.H)):\n",
    "            a[:,i]=self.H[i].predict(X)\n",
    "        for i in range(N):\n",
    "            val,count=np.unique(a[i], return_counts=True)\n",
    "            b[i]=val[np.argmax(count)]\n",
    "    \n",
    "        # You also need to change this line to return your prediction instead of 0s:\n",
    "        return b"
   ]
  },
  {
   "cell_type": "markdown",
   "metadata": {},
   "source": [
    "## Evaluation"
   ]
  },
  {
   "cell_type": "markdown",
   "metadata": {},
   "source": [
    "The following piece of code evaluates the three classifiers and gives the online visualization. It computes the current and global values for `accuracy` and `kappa`. Current value of selected evaluation measure represents the performance of the model on the current window and global value represents the performance of the model on whole datastream. `EvaluatePrequential` also gives the summary of evaluation showing the `Evaluation Time`. It, also, writes the metrics data into a file `result_elec.csv` which will be used in the next part to generate plots for comparing current and global performance of the classifiers."
   ]
  },
  {
   "cell_type": "code",
   "execution_count": 2,
   "metadata": {},
   "outputs": [
    {
     "name": "stdout",
     "output_type": "stream",
     "text": [
      "Prequential Evaluation\n",
      "Evaluating 1 target(s).\n",
      "Pre-training on 1000 sample(s).\n",
      "Evaluating...\n",
      "\r",
      " #------------------- [5%] [0.11s]"
     ]
    },
    {
     "data": {
      "text/plain": [
       "<Figure size 900x500 with 2 Axes>"
      ]
     },
     "metadata": {},
     "output_type": "display_data"
    },
    {
     "data": {
      "text/plain": [
       "<Figure size 640x480 with 0 Axes>"
      ]
     },
     "metadata": {},
     "output_type": "display_data"
    },
    {
     "name": "stdout",
     "output_type": "stream",
     "text": [
      "\r",
      " ##------------------ [10%] [1.47s]"
     ]
    },
    {
     "data": {
      "text/plain": [
       "<Figure size 640x480 with 0 Axes>"
      ]
     },
     "metadata": {},
     "output_type": "display_data"
    },
    {
     "data": {
      "text/plain": [
       "<Figure size 640x480 with 0 Axes>"
      ]
     },
     "metadata": {},
     "output_type": "display_data"
    },
    {
     "name": "stdout",
     "output_type": "stream",
     "text": [
      "\r",
      " ###----------------- [15%] [3.09s]"
     ]
    },
    {
     "data": {
      "text/plain": [
       "<Figure size 640x480 with 0 Axes>"
      ]
     },
     "metadata": {},
     "output_type": "display_data"
    },
    {
     "name": "stdout",
     "output_type": "stream",
     "text": [
      "\r",
      " ####---------------- [20%] [5.01s]"
     ]
    },
    {
     "data": {
      "text/plain": [
       "<Figure size 640x480 with 0 Axes>"
      ]
     },
     "metadata": {},
     "output_type": "display_data"
    },
    {
     "data": {
      "text/plain": [
       "<Figure size 640x480 with 0 Axes>"
      ]
     },
     "metadata": {},
     "output_type": "display_data"
    },
    {
     "name": "stdout",
     "output_type": "stream",
     "text": [
      "\r",
      " #####--------------- [25%] [7.28s]"
     ]
    },
    {
     "data": {
      "text/plain": [
       "<Figure size 640x480 with 0 Axes>"
      ]
     },
     "metadata": {},
     "output_type": "display_data"
    },
    {
     "data": {
      "text/plain": [
       "<Figure size 640x480 with 0 Axes>"
      ]
     },
     "metadata": {},
     "output_type": "display_data"
    },
    {
     "name": "stdout",
     "output_type": "stream",
     "text": [
      "\r",
      " ######-------------- [30%] [9.86s]"
     ]
    },
    {
     "data": {
      "text/plain": [
       "<Figure size 640x480 with 0 Axes>"
      ]
     },
     "metadata": {},
     "output_type": "display_data"
    },
    {
     "data": {
      "text/plain": [
       "<Figure size 640x480 with 0 Axes>"
      ]
     },
     "metadata": {},
     "output_type": "display_data"
    },
    {
     "data": {
      "text/plain": [
       "<Figure size 640x480 with 0 Axes>"
      ]
     },
     "metadata": {},
     "output_type": "display_data"
    },
    {
     "name": "stdout",
     "output_type": "stream",
     "text": [
      "\r",
      " #######------------- [35%] [12.76s]"
     ]
    },
    {
     "data": {
      "text/plain": [
       "<Figure size 640x480 with 0 Axes>"
      ]
     },
     "metadata": {},
     "output_type": "display_data"
    },
    {
     "data": {
      "text/plain": [
       "<Figure size 640x480 with 0 Axes>"
      ]
     },
     "metadata": {},
     "output_type": "display_data"
    },
    {
     "name": "stdout",
     "output_type": "stream",
     "text": [
      "\r",
      " ########------------ [40%] [15.98s]"
     ]
    },
    {
     "data": {
      "text/plain": [
       "<Figure size 640x480 with 0 Axes>"
      ]
     },
     "metadata": {},
     "output_type": "display_data"
    },
    {
     "data": {
      "text/plain": [
       "<Figure size 640x480 with 0 Axes>"
      ]
     },
     "metadata": {},
     "output_type": "display_data"
    },
    {
     "data": {
      "text/plain": [
       "<Figure size 640x480 with 0 Axes>"
      ]
     },
     "metadata": {},
     "output_type": "display_data"
    },
    {
     "name": "stdout",
     "output_type": "stream",
     "text": [
      "\r",
      " #########----------- [45%] [19.54s]"
     ]
    },
    {
     "data": {
      "text/plain": [
       "<Figure size 640x480 with 0 Axes>"
      ]
     },
     "metadata": {},
     "output_type": "display_data"
    },
    {
     "data": {
      "text/plain": [
       "<Figure size 640x480 with 0 Axes>"
      ]
     },
     "metadata": {},
     "output_type": "display_data"
    },
    {
     "name": "stdout",
     "output_type": "stream",
     "text": [
      "\r",
      " ##########---------- [50%] [23.60s]"
     ]
    },
    {
     "data": {
      "text/plain": [
       "<Figure size 640x480 with 0 Axes>"
      ]
     },
     "metadata": {},
     "output_type": "display_data"
    },
    {
     "data": {
      "text/plain": [
       "<Figure size 640x480 with 0 Axes>"
      ]
     },
     "metadata": {},
     "output_type": "display_data"
    },
    {
     "data": {
      "text/plain": [
       "<Figure size 640x480 with 0 Axes>"
      ]
     },
     "metadata": {},
     "output_type": "display_data"
    },
    {
     "name": "stdout",
     "output_type": "stream",
     "text": [
      "\r",
      " ###########--------- [55%] [27.89s]"
     ]
    },
    {
     "data": {
      "text/plain": [
       "<Figure size 640x480 with 0 Axes>"
      ]
     },
     "metadata": {},
     "output_type": "display_data"
    },
    {
     "data": {
      "text/plain": [
       "<Figure size 640x480 with 0 Axes>"
      ]
     },
     "metadata": {},
     "output_type": "display_data"
    },
    {
     "name": "stdout",
     "output_type": "stream",
     "text": [
      "\r",
      " ############-------- [60%] [31.97s]"
     ]
    },
    {
     "data": {
      "text/plain": [
       "<Figure size 640x480 with 0 Axes>"
      ]
     },
     "metadata": {},
     "output_type": "display_data"
    },
    {
     "data": {
      "text/plain": [
       "<Figure size 640x480 with 0 Axes>"
      ]
     },
     "metadata": {},
     "output_type": "display_data"
    },
    {
     "data": {
      "text/plain": [
       "<Figure size 640x480 with 0 Axes>"
      ]
     },
     "metadata": {},
     "output_type": "display_data"
    },
    {
     "name": "stdout",
     "output_type": "stream",
     "text": [
      "\r",
      " #############------- [65%] [36.01s]"
     ]
    },
    {
     "data": {
      "text/plain": [
       "<Figure size 640x480 with 0 Axes>"
      ]
     },
     "metadata": {},
     "output_type": "display_data"
    },
    {
     "data": {
      "text/plain": [
       "<Figure size 640x480 with 0 Axes>"
      ]
     },
     "metadata": {},
     "output_type": "display_data"
    },
    {
     "name": "stdout",
     "output_type": "stream",
     "text": [
      "\r",
      " ##############------ [70%] [40.36s]"
     ]
    },
    {
     "data": {
      "text/plain": [
       "<Figure size 640x480 with 0 Axes>"
      ]
     },
     "metadata": {},
     "output_type": "display_data"
    },
    {
     "data": {
      "text/plain": [
       "<Figure size 640x480 with 0 Axes>"
      ]
     },
     "metadata": {},
     "output_type": "display_data"
    },
    {
     "data": {
      "text/plain": [
       "<Figure size 640x480 with 0 Axes>"
      ]
     },
     "metadata": {},
     "output_type": "display_data"
    },
    {
     "name": "stdout",
     "output_type": "stream",
     "text": [
      "\r",
      " ###############----- [75%] [44.65s]"
     ]
    },
    {
     "data": {
      "text/plain": [
       "<Figure size 640x480 with 0 Axes>"
      ]
     },
     "metadata": {},
     "output_type": "display_data"
    },
    {
     "data": {
      "text/plain": [
       "<Figure size 640x480 with 0 Axes>"
      ]
     },
     "metadata": {},
     "output_type": "display_data"
    },
    {
     "name": "stdout",
     "output_type": "stream",
     "text": [
      "\r",
      " ################---- [80%] [48.96s]"
     ]
    },
    {
     "data": {
      "text/plain": [
       "<Figure size 640x480 with 0 Axes>"
      ]
     },
     "metadata": {},
     "output_type": "display_data"
    },
    {
     "data": {
      "text/plain": [
       "<Figure size 640x480 with 0 Axes>"
      ]
     },
     "metadata": {},
     "output_type": "display_data"
    },
    {
     "data": {
      "text/plain": [
       "<Figure size 640x480 with 0 Axes>"
      ]
     },
     "metadata": {},
     "output_type": "display_data"
    },
    {
     "name": "stdout",
     "output_type": "stream",
     "text": [
      "\r",
      " #################--- [85%] [52.99s]"
     ]
    },
    {
     "data": {
      "text/plain": [
       "<Figure size 640x480 with 0 Axes>"
      ]
     },
     "metadata": {},
     "output_type": "display_data"
    },
    {
     "data": {
      "text/plain": [
       "<Figure size 640x480 with 0 Axes>"
      ]
     },
     "metadata": {},
     "output_type": "display_data"
    },
    {
     "name": "stdout",
     "output_type": "stream",
     "text": [
      "\r",
      " ##################-- [90%] [57.04s]"
     ]
    },
    {
     "data": {
      "text/plain": [
       "<Figure size 640x480 with 0 Axes>"
      ]
     },
     "metadata": {},
     "output_type": "display_data"
    },
    {
     "data": {
      "text/plain": [
       "<Figure size 640x480 with 0 Axes>"
      ]
     },
     "metadata": {},
     "output_type": "display_data"
    },
    {
     "data": {
      "text/plain": [
       "<Figure size 640x480 with 0 Axes>"
      ]
     },
     "metadata": {},
     "output_type": "display_data"
    },
    {
     "name": "stdout",
     "output_type": "stream",
     "text": [
      "\r",
      " ###################- [95%] [61.34s]"
     ]
    },
    {
     "data": {
      "text/plain": [
       "<Figure size 640x480 with 0 Axes>"
      ]
     },
     "metadata": {},
     "output_type": "display_data"
    },
    {
     "data": {
      "text/plain": [
       "<Figure size 640x480 with 0 Axes>"
      ]
     },
     "metadata": {},
     "output_type": "display_data"
    },
    {
     "name": "stdout",
     "output_type": "stream",
     "text": [
      " #################### [100%] [65.64s]\n",
      "Processed samples: 20000\n",
      "Mean performance:\n",
      "M0 - Accuracy     : 0.7349\n",
      "M0 - Kappa        : 0.4516\n",
      "M1 - Accuracy     : 0.8148\n",
      "M1 - Kappa        : 0.6173\n",
      "M2 - Accuracy     : 0.8123\n",
      "M2 - Kappa        : 0.6139\n"
     ]
    },
    {
     "data": {
      "text/plain": [
       "[<skmultiflow.lazy.knn.KNN at 0x7f2753cd4550>,\n",
       " <skmultiflow.trees.hoeffding_tree.HoeffdingTree at 0x7f2755311da0>,\n",
       " <__main__.BatchClassifier at 0x7f278926dba8>]"
      ]
     },
     "execution_count": 2,
     "metadata": {},
     "output_type": "execute_result"
    }
   ],
   "source": [
    "from skmultiflow.trees import HoeffdingTree\n",
    "from skmultiflow.evaluation.evaluate_prequential import EvaluatePrequential\n",
    "from skmultiflow.lazy.knn_adwin import KNNAdwin, KNN\n",
    "from sklearn.linear_model.stochastic_gradient import SGDClassifier\n",
    "from skmultiflow.data.file_stream import FileStream\n",
    "import matplotlib as plt\n",
    "\n",
    "plt.interactive(True)\n",
    "\n",
    "dataset = \"elec\"\n",
    "\n",
    "# 1. Create a stream\n",
    "\n",
    "stream = FileStream(\"./data/\"+dataset+\".csv\", n_targets=1, target_idx=-1)\n",
    "# 2. Prepare for use\n",
    "stream.prepare_for_use()\n",
    "# 2. Instantiate the HoeffdingTree classifier\n",
    "h = [\n",
    "        KNN(n_neighbors=10, max_window_size=100, leaf_size=30),\n",
    "        HoeffdingTree(),\n",
    "        BatchClassifier(window_size=100, max_models=100),\n",
    "     ]\n",
    "\n",
    "# 3. Setup the evaluator\n",
    "\n",
    "evaluator = EvaluatePrequential(pretrain_size=1000, max_samples=20000, show_plot=True, \n",
    "                                metrics=['accuracy', 'kappa'], output_file='result_'+dataset+'.csv', \n",
    "                                batch_size=1)\n",
    "# 4. Run\n",
    "evaluator.evaluate(stream=stream, model=h)"
   ]
  },
  {
   "cell_type": "markdown",
   "metadata": {},
   "source": [
    "## Generating plots"
   ]
  },
  {
   "cell_type": "markdown",
   "metadata": {},
   "source": [
    "The code given below is using the file `result_elec.csv` created by the `Evaluateprequential` in the previous section to generate the plots for current and global values of `accuracy` and `kappa` and generates the `.pdf` file of the figure. "
   ]
  },
  {
   "cell_type": "code",
   "execution_count": 3,
   "metadata": {},
   "outputs": [
    {
     "name": "stdout",
     "output_type": "stream",
     "text": [
      "write out to elec ....pdf\n"
     ]
    },
    {
     "data": {
      "image/png": "[encoded data removed]",
      "text/plain": [
       "<Figure size 432x288 with 1 Axes>"
      ]
     },
     "metadata": {
      "needs_background": "light"
     },
     "output_type": "display_data"
    }
   ],
   "source": [
    "import pandas as pd\n",
    "from matplotlib.pyplot import *\n",
    "\n",
    "dataset = \"elec\"\n",
    "\n",
    "df = pd.read_csv('result_'+dataset+'.csv', comment='#')\n",
    "ax = df.plot(x=\"id\", y=[\"mean_acc_[M0]\",\"mean_acc_[M1]\",\"mean_acc_[M2]\"], rot=45, linewidth=3, title=dataset)\n",
    "#ax = df.plot(x=\"id\", y=[\"current_acc_[M0]\", \"current_acc_[M1]\", \"current_acc_[M2]\"], rot=30, linewidth=3, title=dataset)\n",
    "#ax = df.plot(x=\"id\", y=[\"mean_kappa_[M0]\",\"mean_kappa_[M1]\",\"mean_kappa_[M2]\"], rot=45, linewidth=3, title=dataset)\n",
    "#ax = df.plot(x=\"id\", y=[\"current_kappa_[M0]\", \"current_kappa_[M1]\", \"current_kappa_[M2]\"], rot=30, linewidth=3, title=dataset)\n",
    "ax.set_xlabel(\"\")\n",
    "ax.set_title(\"Performance on the %s dataset\" % dataset)\n",
    "ax.legend([r\"$k$NN\", \"HT\", \"BIE\"], loc='best')\n",
    "print(\"write out to %s ...\" % dataset+\".pdf\")\n",
    "savefig(\"result_\"+dataset+\".pdf\")\n",
    "show()"
   ]
  },
  {
   "cell_type": "markdown",
   "metadata": {},
   "source": [
    "## Deliverables"
   ]
  },
  {
   "cell_type": "markdown",
   "metadata": {},
   "source": [
    "You should submit:\n",
    "1. The Jupyter Notebook \n",
    "2. `html` version of notebook (go to: `File/Download as/HTML`), with visible outputs of your code\n",
    "\n",
    "in a compressed file (`.zip`, `.rar`, `tar.gz`...), and compressed file should be named: `firstname_lastname_lab2.zip`"
   ]
  }
 ],
 "metadata": {
  "kernelspec": {
   "display_name": "Python 3",
   "language": "python",
   "name": "python3"
  },
  "language_info": {
   "codemirror_mode": {
    "name": "ipython",
    "version": 3
   },
   "file_extension": ".py",
   "mimetype": "text/x-python",
   "name": "python",
   "nbconvert_exporter": "python",
   "pygments_lexer": "ipython3",
   "version": "3.7.0"
  }
 },
 "nbformat": 4,
 "nbformat_minor": 2
}
